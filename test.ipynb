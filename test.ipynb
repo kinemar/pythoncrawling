{
 "cells": [
  {
   "cell_type": "code",
   "id": "initial_id",
   "metadata": {
    "collapsed": true,
    "ExecuteTime": {
     "end_time": "2024-08-01T06:01:24.493038Z",
     "start_time": "2024-08-01T06:01:24.488633Z"
    }
   },
   "source": "from pyppeteer import launch",
   "outputs": [],
   "execution_count": 82
  },
  {
   "metadata": {
    "ExecuteTime": {
     "end_time": "2024-08-01T06:02:34.901314Z",
     "start_time": "2024-08-01T06:02:33.676883Z"
    }
   },
   "cell_type": "code",
   "source": [
    "browser = await launch()\n",
    "page = await browser.newPage()"
   ],
   "id": "80932391ad3fac21",
   "outputs": [
    {
     "name": "stderr",
     "output_type": "stream",
     "text": [
      "/Library/Frameworks/Python.framework/Versions/3.8/lib/python3.8/site-packages/pyppeteer/util.py:29: RuntimeWarning: coroutine 'main' was never awaited\n",
      "  gc.collect()\n",
      "RuntimeWarning: Enable tracemalloc to get the object allocation traceback\n",
      "/var/folders/q4/vkq2vfxx3b3gzdfbg330xj7h0000gn/T/ipykernel_7875/3973854862.py:1: RuntimeWarning: coroutine 'launch' was never awaited\n",
      "  browser = await launch()\n",
      "RuntimeWarning: Enable tracemalloc to get the object allocation traceback\n"
     ]
    }
   ],
   "execution_count": 84
  },
  {
   "metadata": {},
   "cell_type": "code",
   "outputs": [],
   "execution_count": null,
   "source": "page.goto('https://quotes.toscrape.com/')\n",
   "id": "a46c15563f76cfe8"
  },
  {
   "metadata": {},
   "cell_type": "code",
   "outputs": [],
   "execution_count": null,
   "source": [
    "## Get Title\n",
    "title_html = page.querySelector('h1')\n",
    "print('title_html', title_html)\n",
    "title = title_html.getProperty(\"textContent\")\n",
    "print('title', title)\n"
   ],
   "id": "f6c5f53f8a53daa"
  },
  {
   "metadata": {},
   "cell_type": "code",
   "outputs": [],
   "execution_count": null,
   "source": [
    "\n",
    "browser.close()"
   ],
   "id": "26fa294b8fab8aca"
  }
 ],
 "metadata": {
  "kernelspec": {
   "display_name": "Python 3",
   "language": "python",
   "name": "python3"
  },
  "language_info": {
   "codemirror_mode": {
    "name": "ipython",
    "version": 2
   },
   "file_extension": ".py",
   "mimetype": "text/x-python",
   "name": "python",
   "nbconvert_exporter": "python",
   "pygments_lexer": "ipython2",
   "version": "2.7.6"
  }
 },
 "nbformat": 4,
 "nbformat_minor": 5
}
