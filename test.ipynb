{
 "cells": [
  {
   "metadata": {},
   "cell_type": "code",
   "outputs": [],
   "execution_count": 1,
   "source": [
    "## 라이브러리 호출\n",
    "### DB라이브러리는 직접 db.py file로 먼저 생성 후 테스트\n",
    "\n",
    "import mechanicalsoup\n",
    "import pandas as pd"
   ],
   "id": "e40a00ac2f772f61"
  },
  {
   "metadata": {
    "ExecuteTime": {
     "end_time": "2024-07-29T04:47:01.597565Z",
     "start_time": "2024-07-29T04:47:01.592736Z"
    }
   },
   "cell_type": "code",
   "source": [
    "browser = mechanicalsoup.StatefulBrowser()\n",
    "browserurl = \"https://www.google.com/search?q=\""
   ],
   "id": "97a3615b4e713857",
   "outputs": [],
   "execution_count": 33
  },
  {
   "metadata": {
    "ExecuteTime": {
     "end_time": "2024-07-29T04:47:11.674798Z",
     "start_time": "2024-07-29T04:47:03.413551Z"
    }
   },
   "cell_type": "code",
   "source": [
    "i = input(\"키워드를 입력하세요 : \")\n",
    "browserurl = browserurl + i\n",
    "browserurl = browserurl.replace(\" \", \"+\")\n",
    "browser.open(browserurl)"
   ],
   "id": "180e2142eb738835",
   "outputs": [
    {
     "data": {
      "text/plain": [
       "<Response [200]>"
      ]
     },
     "execution_count": 34,
     "metadata": {},
     "output_type": "execute_result"
    }
   ],
   "execution_count": 34
  },
  {
   "metadata": {
    "ExecuteTime": {
     "end_time": "2024-07-29T04:50:05.075693Z",
     "start_time": "2024-07-29T04:50:04.861467Z"
    }
   },
   "cell_type": "code",
   "source": "browser.launch_browser()",
   "id": "688e4c1f16db6025",
   "outputs": [],
   "execution_count": 42
  },
  {
   "metadata": {
    "ExecuteTime": {
     "end_time": "2024-07-29T04:52:48.701756Z",
     "start_time": "2024-07-29T04:52:48.688294Z"
    }
   },
   "cell_type": "code",
   "source": [
    "th = browser.page.findAll(\"div\",{\"class\":\"BNeawe vvjwJb AP7Wnd\"})\n",
    "linkth = browser.page.findAll(\"div\",{\"class\":\"egMi0 kCrYT\"})\n"
   ],
   "id": "2f0ed9cb91db6b3c",
   "outputs": [],
   "execution_count": 58
  },
  {
   "metadata": {
    "ExecuteTime": {
     "end_time": "2024-07-29T04:56:05.802531Z",
     "start_time": "2024-07-29T04:56:05.792142Z"
    }
   },
   "cell_type": "code",
   "source": "linkth[0].find(\"a\").attrs[\"href\"].split(\"q=\")[1]",
   "id": "83f2edce65d560fd",
   "outputs": [
    {
     "data": {
      "text/plain": [
       "'https://namu.wiki/w/%25EC%25BB%25A4%25ED%2594%25BC&sa=U&ved=2ahUKEwjNz-_uuMuHAxWmZfUHHdKCIBYQFnoECAgQAg&usg=AOvVaw0qGMxdx8sHnxhdF9e58v5e'"
      ]
     },
     "execution_count": 74,
     "metadata": {},
     "output_type": "execute_result"
    }
   ],
   "execution_count": 74
  },
  {
   "metadata": {
    "ExecuteTime": {
     "end_time": "2024-07-29T04:48:16.548563Z",
     "start_time": "2024-07-29T04:48:16.539695Z"
    }
   },
   "cell_type": "code",
   "source": "th",
   "id": "cfafd0c60f5a088b",
   "outputs": [
    {
     "data": {
      "text/plain": [
       "[<div class=\"BNeawe vvjwJb AP7Wnd\">커피 - 나무위키</div>,\n",
       " <div class=\"BNeawe vvjwJb AP7Wnd\">당신의 일상에 향기를 더하는, 홈카페의 시작 커피창고</div>,\n",
       " <div class=\"BNeawe vvjwJb AP7Wnd\">커피를 이렇게 드시지마세요 혈당을 높이고 나쁜 기름이 몸에 쌓이게 ...</div>,\n",
       " <div class=\"BNeawe vvjwJb AP7Wnd\">커피 - 위키백과, 우리 모두의 백과사전</div>,\n",
       " <div class=\"BNeawe vvjwJb AP7Wnd\">홈 | COFFEE BEAN KOREA</div>,\n",
       " <div class=\"BNeawe vvjwJb AP7Wnd\">네스프레소 오리지널 &amp; 버츄오 커피 주문하기 | 캡슐커피 - Nespresso</div>,\n",
       " <div class=\"BNeawe vvjwJb AP7Wnd\">커피 리브레</div>,\n",
       " <div class=\"BNeawe vvjwJb AP7Wnd\">캡슐커피 - 프릳츠커피컴퍼니</div>,\n",
       " <div class=\"BNeawe vvjwJb AP7Wnd\">맥널티커피</div>]"
      ]
     },
     "execution_count": 39,
     "metadata": {},
     "output_type": "execute_result"
    }
   ],
   "execution_count": 39
  },
  {
   "metadata": {
    "ExecuteTime": {
     "end_time": "2024-07-29T03:03:09.511109Z",
     "start_time": "2024-07-29T03:03:09.506841Z"
    }
   },
   "cell_type": "code",
   "source": [
    "i = 0\n",
    "distribution = [value.text for value in th]\n",
    "\n",
    "dfh = pd.DataFrame(distribution,columns=[\"name\"])\n",
    "link_data = list()\n",
    "i = 0\n",
    "while i<len(th) :\n",
    "    link_data.append(th[i].attrs['href'])\n",
    "    i += 1\n",
    "dfh['link'] = link_data\n"
   ],
   "id": "614aef56dec7a3ec",
   "outputs": [],
   "execution_count": 10
  },
  {
   "metadata": {
    "ExecuteTime": {
     "end_time": "2024-07-29T04:47:50.755583Z",
     "start_time": "2024-07-29T04:47:50.747018Z"
    }
   },
   "cell_type": "code",
   "source": "linkth",
   "id": "82fcc76a0611773b",
   "outputs": [
    {
     "data": {
      "text/plain": [
       "[]"
      ]
     },
     "execution_count": 38,
     "metadata": {},
     "output_type": "execute_result"
    }
   ],
   "execution_count": 38
  },
  {
   "metadata": {
    "ExecuteTime": {
     "end_time": "2024-07-29T03:03:18.750122Z",
     "start_time": "2024-07-29T03:03:18.746667Z"
    }
   },
   "cell_type": "code",
   "source": "",
   "id": "3068b6ed666fae2b",
   "outputs": [],
   "execution_count": 12
  },
  {
   "metadata": {
    "ExecuteTime": {
     "end_time": "2024-07-29T03:03:32.548519Z",
     "start_time": "2024-07-29T03:03:32.540548Z"
    }
   },
   "cell_type": "code",
   "source": "",
   "id": "7f02c49d1ce1bfed",
   "outputs": [
    {
     "name": "stdout",
     "output_type": "stream",
     "text": [
      "['https://blog.naver.com/sooooong2/223528655208', 'https://blog.naver.com/perfect_aj/223503403039', 'https://blog.naver.com/hrk347/223528995926', 'https://blog.naver.com/u_u0309o_o/223514011479', 'https://blog.naver.com/bamkki_foodie/223510184109', 'https://blog.naver.com/mingorange/223525987751', 'https://blog.naver.com/taeh_v/223524710181', 'https://blog.naver.com/kiti5447/223510148986', 'https://post.naver.com/viewer/postView.naver?volumeNo=38235267&memberNo=55667900&vType=VERTICAL', 'https://blog.naver.com/moneytree_jr/223527471655', 'https://blog.naver.com/lv5photo/223508376752', 'https://blog.naver.com/yoon0_jo/223523977367', 'https://blog.naver.com/ohime728/223527248430', 'https://blog.naver.com/qwe34_s/223517597537', 'https://blog.naver.com/esrastyle/223515005054', 'https://blog.naver.com/rvd_romi/223517509088', 'https://blog.naver.com/minnjong/223512026481', 'https://blog.naver.com/1134sin/223519412776', 'https://blog.naver.com/judy638/223514823738', 'https://blog.naver.com/yyuu9393/223527072214', 'https://blog.naver.com/s_eun2/223512238279', 'https://blog.naver.com/s2eoheepark/223517632651', 'https://blog.naver.com/poby1010/223527709192', 'https://blog.naver.com/yh02179/223511663379', 'https://blog.naver.com/ryeezzi/223522304884', 'https://blog.naver.com/s600105/223510763903', 'https://blog.naver.com/tngus9130/223523539668', 'https://blog.naver.com/mayberhea/223518364981', 'https://blog.naver.com/namheezi/223491219231', 'https://blog.naver.com/onedoy/223500859146']\n"
     ]
    }
   ],
   "execution_count": 15
  },
  {
   "metadata": {
    "ExecuteTime": {
     "end_time": "2024-07-29T04:16:45.636284Z",
     "start_time": "2024-07-29T04:16:45.614578Z"
    }
   },
   "cell_type": "code",
   "source": "",
   "id": "7e4be45fe6dd9f25",
   "outputs": [],
   "execution_count": 16
  }
 ],
 "metadata": {
  "kernelspec": {
   "display_name": "Python 3",
   "language": "python",
   "name": "python3"
  },
  "language_info": {
   "codemirror_mode": {
    "name": "ipython",
    "version": 2
   },
   "file_extension": ".py",
   "mimetype": "text/x-python",
   "name": "python",
   "nbconvert_exporter": "python",
   "pygments_lexer": "ipython2",
   "version": "2.7.6"
  }
 },
 "nbformat": 4,
 "nbformat_minor": 5
}
